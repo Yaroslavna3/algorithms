{
  "nbformat": 4,
  "nbformat_minor": 0,
  "metadata": {
    "colab": {
      "provenance": []
    },
    "kernelspec": {
      "name": "python3",
      "display_name": "Python 3"
    },
    "language_info": {
      "name": "python"
    }
  },
  "cells": [
    {
      "cell_type": "code",
      "execution_count": 4,
      "metadata": {
        "id": "C1h1aO-PQyxN"
      },
      "outputs": [],
      "source": [
        "def maxAreaOfIsland(grid):\n",
        "  m, n = len(grid), len(grid[0])\n",
        "\n",
        "  directions = [(-1, 0), (1, 0), (0, -1), (0, 1)]\n",
        "\n",
        "  def dfs(i: int, j: int) -> int:\n",
        "    if i < 0 or i >= m or j < 0 or j >= n or grid[i][j] == 0:\n",
        "      return 0\n",
        "\n",
        "    grid[i][j] = 0\n",
        "    area = 1\n",
        "\n",
        "    for di, dj in directions:\n",
        "      area += dfs(i + di, j + dj)\n",
        "\n",
        "    return area\n",
        "\n",
        "  max_area = 0\n",
        "\n",
        "  for i in range(m):\n",
        "    for j in range(n):\n",
        "      if grid[i][j] == 1:\n",
        "        area = dfs(i, j)\n",
        "        max_area = max(max_area, area)\n",
        "\n",
        "  return max_area"
      ]
    },
    {
      "cell_type": "code",
      "source": [
        "grid = [[0,0,1,0,0,0,0,1,0,0,0,0,0],[0,0,0,0,0,0,0,1,1,1,0,0,0],[0,1,1,0,1,0,0,0,0,0,0,0,0],[0,1,0,0,1,1,0,0,1,0,1,0,0],[0,1,0,0,1,1,0,0,1,1,1,0,0],[0,0,0,0,0,0,0,0,0,0,1,0,0],[0,0,0,0,0,0,0,1,1,1,0,0,0],[0,0,0,0,0,0,0,1,1,0,0,0,0]]"
      ],
      "metadata": {
        "id": "OzFfJ1r9QodK"
      },
      "execution_count": 5,
      "outputs": []
    },
    {
      "cell_type": "code",
      "source": [
        "maxAreaOfIsland(grid)"
      ],
      "metadata": {
        "colab": {
          "base_uri": "https://localhost:8080/"
        },
        "id": "i9-JoFQJQysy",
        "outputId": "c16dc275-8bc1-4fdd-f0cd-11c25dfd72ba"
      },
      "execution_count": 6,
      "outputs": [
        {
          "output_type": "execute_result",
          "data": {
            "text/plain": [
              "6"
            ]
          },
          "metadata": {},
          "execution_count": 6
        }
      ]
    },
    {
      "cell_type": "code",
      "source": [],
      "metadata": {
        "id": "4CgJ8gb9jPNH"
      },
      "execution_count": null,
      "outputs": []
    }
  ]
}