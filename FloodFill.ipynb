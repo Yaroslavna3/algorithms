{
  "nbformat": 4,
  "nbformat_minor": 0,
  "metadata": {
    "colab": {
      "provenance": []
    },
    "kernelspec": {
      "name": "python3",
      "display_name": "Python 3"
    },
    "language_info": {
      "name": "python"
    }
  },
  "cells": [
    {
      "cell_type": "code",
      "execution_count": 10,
      "metadata": {
        "id": "0gbyLk0SsC6Q"
      },
      "outputs": [],
      "source": [
        "from collections import deque\n",
        "\n",
        "\n",
        "def floodFill(image, sr: int, sc: int, color: int):\n",
        "  rows, cols = len(image), len(image[0])\n",
        "\n",
        "  orig_color = image[sr][sc]\n",
        "\n",
        "  if orig_color == color:\n",
        "    return image\n",
        "\n",
        "  queue = deque()\n",
        "  queue.append((sr, sc))\n",
        "\n",
        "  directions = [(-1, 0), (1, 0), (0, -1), (0, 1)]\n",
        "\n",
        "  while queue:\n",
        "    r,c = queue.popleft()\n",
        "    image[r][c] = color\n",
        "\n",
        "    for dr, dc in directions:\n",
        "      nr, nc = r + dr, c + dc\n",
        "      if 0 <= nr < rows and 0 <= nc < cols and image[nr][nc] == orig_color:\n",
        "        queue.append((nr, nc))\n",
        "\n",
        "  return image\n",
        "\n"
      ]
    },
    {
      "cell_type": "code",
      "source": [
        "image = [[1,1,1],[1,1,0],[1,0,1]]\n",
        "sr = 1\n",
        "sc = 1\n",
        "color = 2\n",
        "floodFill(image, sr, sc, color)"
      ],
      "metadata": {
        "colab": {
          "base_uri": "https://localhost:8080/"
        },
        "id": "bpaZdUMpswDc",
        "outputId": "759f3176-ce75-4131-d412-59a0e2b4ae26"
      },
      "execution_count": 11,
      "outputs": [
        {
          "output_type": "execute_result",
          "data": {
            "text/plain": [
              "[[2, 2, 2], [2, 2, 0], [2, 0, 1]]"
            ]
          },
          "metadata": {},
          "execution_count": 11
        }
      ]
    },
    {
      "cell_type": "code",
      "source": [],
      "metadata": {
        "id": "_ntBRYcQNsH2"
      },
      "execution_count": null,
      "outputs": []
    }
  ]
}