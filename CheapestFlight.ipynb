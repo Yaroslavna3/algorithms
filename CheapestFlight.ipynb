{
  "nbformat": 4,
  "nbformat_minor": 0,
  "metadata": {
    "colab": {
      "provenance": []
    },
    "kernelspec": {
      "name": "python3",
      "display_name": "Python 3"
    },
    "language_info": {
      "name": "python"
    }
  },
  "cells": [
    {
      "cell_type": "code",
      "execution_count": 4,
      "metadata": {
        "id": "C1h1aO-PQyxN"
      },
      "outputs": [],
      "source": [
        "def findCheapestPrice(n: int, flights, src: int, dst: int, k: int):\n",
        "  INF = float('inf')\n",
        "\n",
        "  dist = [INF] * n\n",
        "  dist[src] = 0\n",
        "\n",
        "  for i in range(k + 1):\n",
        "    new_dist = dist.copy()\n",
        "    for u, v, w in flights:\n",
        "      if dist[u] != INF:\n",
        "        if dist[u] + w < new_dist[v]:\n",
        "          new_dist[v] = dist[u] + w\n",
        "\n",
        "    dist = new_dist\n",
        "\n",
        "  return -1 if dist[dst] == INF else dist[dst]"
      ]
    },
    {
      "cell_type": "code",
      "source": [
        "n = 4\n",
        "flights = [[0,1,100],[1,2,100],[2,0,100],[1,3,600],[2,3,200]]\n",
        "src = 0\n",
        "dst = 3\n",
        "k = 1"
      ],
      "metadata": {
        "id": "OzFfJ1r9QodK"
      },
      "execution_count": 5,
      "outputs": []
    },
    {
      "cell_type": "code",
      "source": [
        "findCheapestPrice(n, flights, src, dst, k)"
      ],
      "metadata": {
        "colab": {
          "base_uri": "https://localhost:8080/"
        },
        "id": "i9-JoFQJQysy",
        "outputId": "a19be79e-5e0c-4bcc-fad1-e537bdc0efb6"
      },
      "execution_count": 6,
      "outputs": [
        {
          "output_type": "execute_result",
          "data": {
            "text/plain": [
              "700"
            ]
          },
          "metadata": {},
          "execution_count": 6
        }
      ]
    }
  ]
}