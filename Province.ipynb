{
  "nbformat": 4,
  "nbformat_minor": 0,
  "metadata": {
    "colab": {
      "provenance": []
    },
    "kernelspec": {
      "name": "python3",
      "display_name": "Python 3"
    },
    "language_info": {
      "name": "python"
    }
  },
  "cells": [
    {
      "cell_type": "code",
      "execution_count": 8,
      "metadata": {
        "id": "C1h1aO-PQyxN"
      },
      "outputs": [],
      "source": [
        "def findCircleNum(isConnected):\n",
        "  n = len(isConnected)\n",
        "  visited = [False] * n\n",
        "\n",
        "  def dfs(city):\n",
        "    visited[city] = True\n",
        "    for neighbor in range(n):\n",
        "      if isConnected[city][neighbor] == 1 and not visited[neighbor]:\n",
        "        dfs(neighbor)\n",
        "\n",
        "  province_count = 0\n",
        "  for city in range(n):\n",
        "    if not visited[city]:\n",
        "      dfs(city)\n",
        "      province_count += 1\n",
        "\n",
        "  return province_count"
      ]
    },
    {
      "cell_type": "code",
      "source": [
        "isConnected = [[1,1,0],[1,1,0],[0,0,1]]"
      ],
      "metadata": {
        "id": "OzFfJ1r9QodK"
      },
      "execution_count": 9,
      "outputs": []
    },
    {
      "cell_type": "code",
      "source": [
        "findCircleNum(isConnected)"
      ],
      "metadata": {
        "colab": {
          "base_uri": "https://localhost:8080/"
        },
        "id": "i9-JoFQJQysy",
        "outputId": "5ec127aa-9192-4785-9b1e-a750e2790d58"
      },
      "execution_count": 10,
      "outputs": [
        {
          "output_type": "execute_result",
          "data": {
            "text/plain": [
              "2"
            ]
          },
          "metadata": {},
          "execution_count": 10
        }
      ]
    },
    {
      "cell_type": "code",
      "source": [],
      "metadata": {
        "id": "4CgJ8gb9jPNH"
      },
      "execution_count": null,
      "outputs": []
    }
  ]
}